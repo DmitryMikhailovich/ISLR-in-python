{
 "cells": [
  {
   "cell_type": "markdown",
   "metadata": {},
   "source": [
    "# Chapter 5 - Resampling Methods"
   ]
  },
  {
   "cell_type": "code",
   "execution_count": 34,
   "metadata": {
    "ExecuteTime": {
     "end_time": "2016-12-15T19:31:29.214607",
     "start_time": "2016-12-15T19:31:29.202607"
    },
    "collapsed": false,
    "run_control": {
     "marked": false
    }
   },
   "outputs": [],
   "source": [
    "import collections\n",
    "import pandas as pd\n",
    "import numpy as np\n",
    "import scipy as sp\n",
    "import matplotlib.pyplot as plt\n",
    "import statsmodels.api as sm\n",
    "import statsmodels.formula.api as smf\n",
    "import patsy as pt\n",
    "from sklearn.linear_model import LogisticRegression\n",
    "from sklearn.metrics import mean_squared_error\n",
    "try:\n",
    "    from sklearn.model_selection import train_test_split\n",
    "except ImportError:\n",
    "    # for scikit-learn prior to 0.18\n",
    "    from sklearn.cross_validation import train_test_split"
   ]
  },
  {
   "cell_type": "markdown",
   "metadata": {
    "collapsed": true
   },
   "source": [
    "### 5. In Chapter 4, we used logistic regression to predict the probability of default using income and balance on the Default data set. We will now estimate the test error of this logistic regression model using the validation set approach. Do not forget to set a random seed before beginning your analysis."
   ]
  },
  {
   "cell_type": "code",
   "execution_count": 4,
   "metadata": {
    "ExecuteTime": {
     "end_time": "2016-12-15T19:19:50.851323",
     "start_time": "2016-12-15T19:19:50.732821"
    },
    "collapsed": false,
    "run_control": {
     "marked": false
    }
   },
   "outputs": [],
   "source": [
    "default = pd.read_csv('./Datasets/Default.csv', index_col=0)\n",
    "default = pd.get_dummies(default, drop_first=True)\n",
    "default_y, default_X = pt.dmatrices('default_Yes ~ income + balance - 1', default)\n",
    "default_y = default_y.ravel()"
   ]
  },
  {
   "cell_type": "markdown",
   "metadata": {
    "run_control": {
     "marked": false
    }
   },
   "source": [
    "(a) Fit a logistic regression model that uses income and balance to predict default "
   ]
  },
  {
   "cell_type": "code",
   "execution_count": 5,
   "metadata": {
    "ExecuteTime": {
     "end_time": "2016-12-15T19:19:50.865323",
     "start_time": "2016-12-15T19:19:50.854323"
    },
    "collapsed": true
   },
   "outputs": [],
   "source": [
    "d_lr_model = LogisticRegression()"
   ]
  },
  {
   "cell_type": "markdown",
   "metadata": {},
   "source": [
    "(b) Using the validation set approach, estimate the test error of this model. In order to do this, you must perform the following steps:  \n",
    "i. Split the sample set into a training set and a validation set.\n",
    "\n"
   ]
  },
  {
   "cell_type": "code",
   "execution_count": 6,
   "metadata": {
    "ExecuteTime": {
     "end_time": "2016-12-15T19:19:50.889824",
     "start_time": "2016-12-15T19:19:50.869824"
    },
    "collapsed": true
   },
   "outputs": [],
   "source": [
    "default_X_train, default_X_test, default_y_train, default_y_test = train_test_split(default_X, \n",
    "                                                                                    default_y,\n",
    "                                                                                    test_size=0.2,\n",
    "                                                                                    random_state=777)"
   ]
  },
  {
   "cell_type": "markdown",
   "metadata": {},
   "source": [
    "ii. Fit a multiple logistic regression model using only the training observations.\n"
   ]
  },
  {
   "cell_type": "code",
   "execution_count": 7,
   "metadata": {
    "ExecuteTime": {
     "end_time": "2016-12-15T19:19:51.067327",
     "start_time": "2016-12-15T19:19:50.893824"
    },
    "collapsed": false,
    "run_control": {
     "marked": false
    }
   },
   "outputs": [
    {
     "data": {
      "text/plain": [
       "LogisticRegression(C=1.0, class_weight=None, dual=False, fit_intercept=True,\n",
       "          intercept_scaling=1, max_iter=100, multi_class='ovr', n_jobs=1,\n",
       "          penalty='l2', random_state=None, solver='liblinear', tol=0.0001,\n",
       "          verbose=0, warm_start=False)"
      ]
     },
     "execution_count": 7,
     "metadata": {},
     "output_type": "execute_result"
    }
   ],
   "source": [
    "d_lr_model.fit(default_X_train, default_y_train)"
   ]
  },
  {
   "cell_type": "markdown",
   "metadata": {},
   "source": [
    "iii. Obtain a prediction of default status for each individual in the validation set by computing the posterior probability of default for that individual, and classifying the individual to the default category if the posterior probability is greater than 0.5.\n"
   ]
  },
  {
   "cell_type": "code",
   "execution_count": 8,
   "metadata": {
    "ExecuteTime": {
     "end_time": "2016-12-15T19:19:51.079828",
     "start_time": "2016-12-15T19:19:51.071328"
    },
    "collapsed": true
   },
   "outputs": [],
   "source": [
    "default_cv_prediction = d_lr_model.predict(default_X_test)"
   ]
  },
  {
   "cell_type": "markdown",
   "metadata": {},
   "source": [
    "iv. Compute the validation set error, which is the fraction of the observations in the validation set that are misclassified."
   ]
  },
  {
   "cell_type": "code",
   "execution_count": 9,
   "metadata": {
    "ExecuteTime": {
     "end_time": "2016-12-15T19:19:51.116329",
     "start_time": "2016-12-15T19:19:51.089828"
    },
    "collapsed": false
   },
   "outputs": [
    {
     "name": "stdout",
     "output_type": "stream",
     "text": [
      "Validation set error is 3.75%\n"
     ]
    }
   ],
   "source": [
    "print('Validation set error is {:.2%}'.format(1-d_lr_model.score(default_X_test, default_y_test)))"
   ]
  },
  {
   "cell_type": "markdown",
   "metadata": {},
   "source": [
    "(c) Repeat the process in (b) three times, using three different splits of the observations into a training set and a validation set. Comment on the results obtained."
   ]
  },
  {
   "cell_type": "code",
   "execution_count": 10,
   "metadata": {
    "ExecuteTime": {
     "end_time": "2016-12-15T19:19:51.255839",
     "start_time": "2016-12-15T19:19:51.125328"
    },
    "collapsed": false
   },
   "outputs": [
    {
     "name": "stdout",
     "output_type": "stream",
     "text": [
      "Validation set errors for 3 different splits are [0.037000000000000033, 0.032499999999999973, 0.025000000000000022]\n"
     ]
    }
   ],
   "source": [
    "default_test_errors = []\n",
    "for _ in range(3):\n",
    "    default_X_train, default_X_test, default_y_train, default_y_test = train_test_split(default_X, \n",
    "                                                                                    default_y,\n",
    "                                                                                    test_size=0.2,\n",
    "                                                                                    random_state=100*_)\n",
    "    model = LogisticRegression()\n",
    "    model.fit(default_X_train, default_y_train)\n",
    "    test_error = 1 - model.score(default_X_test, default_y_test)\n",
    "    default_test_errors.append(test_error)\n",
    "print('Validation set errors for 3 different splits are {}'.format(default_test_errors))"
   ]
  },
  {
   "cell_type": "markdown",
   "metadata": {},
   "source": [
    "(d) Now consider a logistic regression model that predicts the probability of default using income , balance , and a dummy variable for student . Estimate the test error for this model using the validation set approach. Comment on whether or not including a dummy variable for student leads to a reduction in the test error rate."
   ]
  },
  {
   "cell_type": "code",
   "execution_count": 11,
   "metadata": {
    "ExecuteTime": {
     "end_time": "2016-12-15T19:19:51.314838",
     "start_time": "2016-12-15T19:19:51.259332"
    },
    "collapsed": false
   },
   "outputs": [
    {
     "name": "stdout",
     "output_type": "stream",
     "text": [
      "Validation set error for model with student predictor is 3.75%\n"
     ]
    }
   ],
   "source": [
    "default_X = pt.dmatrix('balance + income + student_Yes - 1', default)\n",
    "default_X_train, default_X_test, default_y_train, default_y_test = train_test_split(default_X, \n",
    "                                                                                    default_y,\n",
    "                                                                                    test_size=0.2,\n",
    "                                                                                    random_state=777)\n",
    "d_lr_model.fit(default_X_train, default_y_train)\n",
    "print('Validation set error for model with student predictor is {:.2%}'.format(1-d_lr_model.score(default_X_test, default_y_test)))"
   ]
  },
  {
   "cell_type": "markdown",
   "metadata": {},
   "source": [
    "Including student dummy variable have no effect on test error given all else equal."
   ]
  },
  {
   "cell_type": "markdown",
   "metadata": {},
   "source": [
    "### 6. We continue to consider the use of a logistic regression model to predict the probability of default using income and balance on the Default data set. In particular, we will now compute estimates for the standard errors of the income and balance logistic regression coefficients in two different ways: (1) using the bootstrap, and (2) using the standard formula for computing the standard errors in the glm() function. Do not forget to set a random seed before beginning your analysis."
   ]
  },
  {
   "cell_type": "markdown",
   "metadata": {},
   "source": [
    "#### For this excercise I will use statsmodels package to have inference from model."
   ]
  },
  {
   "cell_type": "markdown",
   "metadata": {},
   "source": [
    "(a) Using the summary() and glm() functions, determine the estimated standard errors for the coefficients associated with income and balance in a multiple logistic regression model that uses both predictors."
   ]
  },
  {
   "cell_type": "code",
   "execution_count": 12,
   "metadata": {
    "ExecuteTime": {
     "end_time": "2016-12-15T19:19:51.521340",
     "start_time": "2016-12-15T19:19:51.318333"
    },
    "collapsed": false
   },
   "outputs": [
    {
     "name": "stdout",
     "output_type": "stream",
     "text": [
      "Optimization terminated successfully.\n",
      "         Current function value: 0.078948\n",
      "         Iterations 10\n"
     ]
    }
   ],
   "source": [
    "d_lr_model_sm = smf.logit('default_Yes ~ income + balance', data=default).fit()"
   ]
  },
  {
   "cell_type": "code",
   "execution_count": 13,
   "metadata": {
    "ExecuteTime": {
     "end_time": "2016-12-15T19:19:51.671342",
     "start_time": "2016-12-15T19:19:51.526336"
    },
    "collapsed": false
   },
   "outputs": [
    {
     "data": {
      "text/html": [
       "<table class=\"simpletable\">\n",
       "<caption>Logit Regression Results</caption>\n",
       "<tr>\n",
       "  <th>Dep. Variable:</th>    <td>default_Yes</td>   <th>  No. Observations:  </th>   <td> 10000</td>  \n",
       "</tr>\n",
       "<tr>\n",
       "  <th>Model:</th>               <td>Logit</td>      <th>  Df Residuals:      </th>   <td>  9997</td>  \n",
       "</tr>\n",
       "<tr>\n",
       "  <th>Method:</th>               <td>MLE</td>       <th>  Df Model:          </th>   <td>     2</td>  \n",
       "</tr>\n",
       "<tr>\n",
       "  <th>Date:</th>          <td>Thu, 15 Dec 2016</td> <th>  Pseudo R-squ.:     </th>   <td>0.4594</td>  \n",
       "</tr>\n",
       "<tr>\n",
       "  <th>Time:</th>              <td>19:19:51</td>     <th>  Log-Likelihood:    </th>  <td> -789.48</td> \n",
       "</tr>\n",
       "<tr>\n",
       "  <th>converged:</th>           <td>True</td>       <th>  LL-Null:           </th>  <td> -1460.3</td> \n",
       "</tr>\n",
       "<tr>\n",
       "  <th> </th>                      <td> </td>        <th>  LLR p-value:       </th> <td>4.541e-292</td>\n",
       "</tr>\n",
       "</table>\n",
       "<table class=\"simpletable\">\n",
       "<tr>\n",
       "      <td></td>         <th>coef</th>     <th>std err</th>      <th>z</th>      <th>P>|z|</th> <th>[95.0% Conf. Int.]</th> \n",
       "</tr>\n",
       "<tr>\n",
       "  <th>Intercept</th> <td>  -11.5405</td> <td>    0.435</td> <td>  -26.544</td> <td> 0.000</td> <td>  -12.393   -10.688</td>\n",
       "</tr>\n",
       "<tr>\n",
       "  <th>income</th>    <td> 2.081e-05</td> <td> 4.99e-06</td> <td>    4.174</td> <td> 0.000</td> <td>  1.1e-05  3.06e-05</td>\n",
       "</tr>\n",
       "<tr>\n",
       "  <th>balance</th>   <td>    0.0056</td> <td>    0.000</td> <td>   24.835</td> <td> 0.000</td> <td>    0.005     0.006</td>\n",
       "</tr>\n",
       "</table>"
      ],
      "text/plain": [
       "<class 'statsmodels.iolib.summary.Summary'>\n",
       "\"\"\"\n",
       "                           Logit Regression Results                           \n",
       "==============================================================================\n",
       "Dep. Variable:            default_Yes   No. Observations:                10000\n",
       "Model:                          Logit   Df Residuals:                     9997\n",
       "Method:                           MLE   Df Model:                            2\n",
       "Date:                Thu, 15 Dec 2016   Pseudo R-squ.:                  0.4594\n",
       "Time:                        19:19:51   Log-Likelihood:                -789.48\n",
       "converged:                       True   LL-Null:                       -1460.3\n",
       "                                        LLR p-value:                4.541e-292\n",
       "==============================================================================\n",
       "                 coef    std err          z      P>|z|      [95.0% Conf. Int.]\n",
       "------------------------------------------------------------------------------\n",
       "Intercept    -11.5405      0.435    -26.544      0.000       -12.393   -10.688\n",
       "income      2.081e-05   4.99e-06      4.174      0.000       1.1e-05  3.06e-05\n",
       "balance        0.0056      0.000     24.835      0.000         0.005     0.006\n",
       "==============================================================================\n",
       "\n",
       "Possibly complete quasi-separation: A fraction 0.14 of observations can be\n",
       "perfectly predicted. This might indicate that there is complete\n",
       "quasi-separation. In this case some parameters will not be identified.\n",
       "\"\"\""
      ]
     },
     "execution_count": 13,
     "metadata": {},
     "output_type": "execute_result"
    }
   ],
   "source": [
    "d_lr_model_sm.summary()"
   ]
  },
  {
   "cell_type": "markdown",
   "metadata": {},
   "source": [
    "(b) Write a function, boot.fn() , that takes as input the Default data set as well as an index of the observations, and that outputs the coefficient estimates for income and balance in the multiple logistic regression model."
   ]
  },
  {
   "cell_type": "code",
   "execution_count": 14,
   "metadata": {
    "ExecuteTime": {
     "end_time": "2016-12-15T19:19:51.684343",
     "start_time": "2016-12-15T19:19:51.675840"
    },
    "collapsed": true
   },
   "outputs": [],
   "source": [
    "def boot_fn(data, obs_ind):\n",
    "    model = smf.logit('default_Yes ~ income + balance', data=data.ix[obs_ind]).fit(disp=False)\n",
    "    return model.bse[1:]"
   ]
  },
  {
   "cell_type": "code",
   "execution_count": 15,
   "metadata": {
    "ExecuteTime": {
     "end_time": "2016-12-15T19:19:51.711840",
     "start_time": "2016-12-15T19:19:51.688343"
    },
    "collapsed": true,
    "run_control": {
     "marked": false
    }
   },
   "outputs": [],
   "source": [
    "def boot(data, bn=100):\n",
    "    pars = [0, 0]\n",
    "    n = len(data)\n",
    "    for _ in range(bn):\n",
    "        obs_ind = np.random.choice(data.index, size=n)\n",
    "        pars += boot_fn(data, obs_ind)\n",
    "\n",
    "    pars /= bn\n",
    "    return pars"
   ]
  },
  {
   "cell_type": "markdown",
   "metadata": {},
   "source": [
    "(c) Use the boot() function together with your boot.fn() function to estimate the standard errors of the logistic regression coefficients for income and balance."
   ]
  },
  {
   "cell_type": "code",
   "execution_count": 16,
   "metadata": {
    "ExecuteTime": {
     "end_time": "2016-12-15T19:20:00.245537",
     "start_time": "2016-12-15T19:19:51.715344"
    },
    "collapsed": false,
    "scrolled": true
   },
   "outputs": [
    {
     "name": "stdout",
     "output_type": "stream",
     "text": [
      "Std. errors predicted with logistic regression model:\n",
      " income     0.000005\n",
      "balance    0.000227\n",
      "dtype: float64, std. errors predicted with bootstrap:\n",
      " income     0.000005\n",
      "balance    0.000228\n",
      "dtype: float64\n"
     ]
    }
   ],
   "source": [
    "print('Std. errors predicted with logistic regression model:\\n {}, std. errors predicted with bootstrap:\\n {}'.format(d_lr_model_sm.bse[1:], boot(default)))"
   ]
  },
  {
   "cell_type": "markdown",
   "metadata": {},
   "source": [
    "(d) Comment on the estimated standard errors obtained using the glm() function and using your bootstrap function.  \n",
    "Estimates are almost equal for both methods."
   ]
  },
  {
   "cell_type": "markdown",
   "metadata": {},
   "source": [
    "### 7. In Sections 5.3.2 and 5.3.3, we saw that the cv.glm() function can be used in order to compute the LOOCV test error estimate. Alternatively, one could compute those quantities using just the glm() and predict.glm() functions, and a for loop. You will now take this approach in order to compute the LOOCV error for a simple logistic regression model on the Weekly data set. Recall that in the context of classification problems, the LOOCV error is given in (5.4)."
   ]
  },
  {
   "cell_type": "code",
   "execution_count": 17,
   "metadata": {
    "ExecuteTime": {
     "end_time": "2016-12-15T19:20:00.288540",
     "start_time": "2016-12-15T19:20:00.249036"
    },
    "collapsed": true
   },
   "outputs": [],
   "source": [
    "weekly = pd.read_csv('./Datasets/Weekly.csv', index_col=0)\n",
    "weekly = pd.get_dummies(weekly, drop_first=True)"
   ]
  },
  {
   "cell_type": "markdown",
   "metadata": {},
   "source": [
    "(a) Fit a logistic regression model that predicts Direction using Lag1 and Lag2."
   ]
  },
  {
   "cell_type": "code",
   "execution_count": 18,
   "metadata": {
    "ExecuteTime": {
     "end_time": "2016-12-15T19:20:00.328541",
     "start_time": "2016-12-15T19:20:00.292538"
    },
    "collapsed": false
   },
   "outputs": [
    {
     "data": {
      "text/plain": [
       "LogisticRegression(C=1.0, class_weight=None, dual=False, fit_intercept=True,\n",
       "          intercept_scaling=1, max_iter=100, multi_class='ovr', n_jobs=1,\n",
       "          penalty='l2', random_state=None, solver='liblinear', tol=0.0001,\n",
       "          verbose=0, warm_start=False)"
      ]
     },
     "execution_count": 18,
     "metadata": {},
     "output_type": "execute_result"
    }
   ],
   "source": [
    "weekly_y, weekly_X = pt.dmatrices('Direction_Up ~ Lag1 + Lag2 - 1', weekly)\n",
    "weekly_y = weekly_y.ravel()\n",
    "dir_lr_model_full = LogisticRegression()\n",
    "dir_lr_model_full.fit(weekly_X, weekly_y)"
   ]
  },
  {
   "cell_type": "markdown",
   "metadata": {},
   "source": [
    "(b) Fit a logistic regression model that predicts Direction using Lag1 and Lag2 using all but the first observation."
   ]
  },
  {
   "cell_type": "code",
   "execution_count": 19,
   "metadata": {
    "ExecuteTime": {
     "end_time": "2016-12-15T19:20:00.358549",
     "start_time": "2016-12-15T19:20:00.332039"
    },
    "collapsed": false
   },
   "outputs": [
    {
     "data": {
      "text/plain": [
       "LogisticRegression(C=1.0, class_weight=None, dual=False, fit_intercept=True,\n",
       "          intercept_scaling=1, max_iter=100, multi_class='ovr', n_jobs=1,\n",
       "          penalty='l2', random_state=None, solver='liblinear', tol=0.0001,\n",
       "          verbose=0, warm_start=False)"
      ]
     },
     "execution_count": 19,
     "metadata": {},
     "output_type": "execute_result"
    }
   ],
   "source": [
    "dir_lr_model_foo = LogisticRegression()\n",
    "dir_lr_model_foo.fit(weekly_X[1:], weekly_y[1:])"
   ]
  },
  {
   "cell_type": "markdown",
   "metadata": {},
   "source": [
    "(c) Use the model from (b) to predict the direction of the first observation. You can do this by predicting that the first observation will go up if P( Direction=\"Up\" | Lag1 , Lag2 ) > 0.5. Was this observation correctly classified?"
   ]
  },
  {
   "cell_type": "code",
   "execution_count": 20,
   "metadata": {
    "ExecuteTime": {
     "end_time": "2016-12-15T19:20:00.397540",
     "start_time": "2016-12-15T19:20:00.387039"
    },
    "collapsed": false
   },
   "outputs": [
    {
     "data": {
      "text/plain": [
       "array([False], dtype=bool)"
      ]
     },
     "execution_count": 20,
     "metadata": {},
     "output_type": "execute_result"
    }
   ],
   "source": [
    "dir_lr_model_foo.predict(weekly_X[0].reshape(1, -1)) == weekly_y[0]"
   ]
  },
  {
   "cell_type": "markdown",
   "metadata": {},
   "source": [
    "d) Write a for loop from i = 1 to i = n, where n is the number of observations in the data set, that performs each of the following steps:  \n",
    "i. Fit a logistic regression model using all but the ith observation to predict Direction using Lag1 and Lag2.  \n",
    "ii. Compute the posterior probability of the market moving up for the ith observation.  \n",
    "iii. Use the posterior probability for the ith observation in order to predict whether or not the market moves up.  \n",
    "iv. Determine whether or not an error was made in predicting the direction for the ith observation. If an error was made, then indicate this as a 1, and otherwise indicate it as a 0.  \n",
    "(e) Take the average of the n numbers obtained in (d)iv in order to obtain the LOOCV estimate for the test error. Comment on the results.  "
   ]
  },
  {
   "cell_type": "code",
   "execution_count": 21,
   "metadata": {
    "ExecuteTime": {
     "end_time": "2016-12-15T19:20:03.364105",
     "start_time": "2016-12-15T19:20:00.403540"
    },
    "collapsed": false
   },
   "outputs": [
    {
     "name": "stdout",
     "output_type": "stream",
     "text": [
      "LOOCV average test error is 45.00%\n"
     ]
    }
   ],
   "source": [
    "total_misclassified = 0\n",
    "idx = np.arange(len(weekly))\n",
    "for i in range(len(weekly)):\n",
    "    model = LogisticRegression()\n",
    "    model.fit(weekly_X[idx != i], weekly_y[idx != i])\n",
    "    total_misclassified += model.predict(weekly_X[i].reshape(1, -1))[0] != weekly_y[i]\n",
    "\n",
    "print('LOOCV average test error is {:.2%}'.format(total_misclassified / len(weekly)))"
   ]
  },
  {
   "cell_type": "markdown",
   "metadata": {},
   "source": [
    "### 8. We will now perform cross-validation on a simulated data set.(a) Generate a simulated data set as follows:  \n",
    "```r\n",
    "set.seed(1)  \n",
    "y=rnorm(100)  \n",
    "x=rnorm(100)  \n",
    "y=x-2*x^2+rnorm(100)  \n",
    "```\n",
    "In this data set, what is n and what is p? Write out the model used to generate the data in equation form.  \n",
    "n=100  \n",
    "p=1  \n",
    "$Y=X-2X^2+\\epsilon$"
   ]
  },
  {
   "cell_type": "code",
   "execution_count": 22,
   "metadata": {
    "ExecuteTime": {
     "end_time": "2016-12-15T19:20:03.378105",
     "start_time": "2016-12-15T19:20:03.368101"
    },
    "collapsed": true
   },
   "outputs": [],
   "source": [
    "np.random.seed(1)\n",
    "y = np.random.randn(100)\n",
    "x = np.random.randn(100)\n",
    "y = x - 2*x**2 + np.random.randn(100)"
   ]
  },
  {
   "cell_type": "markdown",
   "metadata": {},
   "source": [
    "(b) Create a scatterplot of X against Y . Comment on what you find.  \n",
    "We can see a strong nonlinear relation ship between $x$ and $y$."
   ]
  },
  {
   "cell_type": "code",
   "execution_count": 23,
   "metadata": {
    "ExecuteTime": {
     "end_time": "2016-12-15T19:20:04.562129",
     "start_time": "2016-12-15T19:20:03.382102"
    },
    "collapsed": false
   },
   "outputs": [
    {
     "data": {
      "image/png": "[encoded data removed]",
      "text/plain": [
       "<matplotlib.figure.Figure at 0x1b0f90c49b0>"
      ]
     },
     "metadata": {},
     "output_type": "display_data"
    }
   ],
   "source": [
    "plt.plot(x, y, 'bo')\n",
    "plt.xlabel('$X$')\n",
    "plt.ylabel('$Y$')\n",
    "plt.show()"
   ]
  },
  {
   "cell_type": "markdown",
   "metadata": {},
   "source": [
    "(c) Set a random seed, and then compute the LOOCV errors that result from fitting the following four models using least squares:  \n",
    "\n",
    "i.$ Y = β_0 + β_1X + \\epsilon$  \n",
    "ii. $Y = β_0 + β_1X + β_2 X^2 + \\epsilon$  \n",
    "iii. $Y = β_0 + β_1X + β_2X^2 + β 3X^3 + \\epsilon$  \n",
    "iv. $Y = β_0 + β_1X + β_2X^2 + β_3X^3 + β_4X^4 + \\epsilon$"
   ]
  },
  {
   "cell_type": "code",
   "execution_count": 24,
   "metadata": {
    "ExecuteTime": {
     "end_time": "2016-12-15T19:20:04.574126",
     "start_time": "2016-12-15T19:20:04.565630"
    },
    "collapsed": false
   },
   "outputs": [],
   "source": [
    "df = pd.DataFrame({'y': y, 'x': x})"
   ]
  },
  {
   "cell_type": "code",
   "execution_count": 25,
   "metadata": {
    "ExecuteTime": {
     "end_time": "2016-12-15T19:20:04.601629",
     "start_time": "2016-12-15T19:20:04.577630"
    },
    "collapsed": false
   },
   "outputs": [],
   "source": [
    "models = collections.OrderedDict((('i', 'y ~ x'),\n",
    "         ('ii', 'y ~ x + np.power(x, 2)'),\n",
    "         ('iii', 'y ~ x + np.power(x, 2) + np.power(x, 3)'),\n",
    "         ('iv', 'y ~ x + np.power(x, 2) + np.power(x, 3) + np.power(x, 4)')))"
   ]
  },
  {
   "cell_type": "code",
   "execution_count": 26,
   "metadata": {
    "ExecuteTime": {
     "end_time": "2016-12-15T19:20:13.015805",
     "start_time": "2016-12-15T19:20:04.605631"
    },
    "collapsed": false
   },
   "outputs": [
    {
     "name": "stdout",
     "output_type": "stream",
     "text": [
      "LOOCV error for model i is 829.22%\n",
      "LOOCV error for model ii is 101.71%\n",
      "LOOCV error for model iii is 104.66%\n",
      "LOOCV error for model iv is 105.75%\n"
     ]
    }
   ],
   "source": [
    "n = len(df)\n",
    "idx = df.index\n",
    "for m in models:\n",
    "    loocv_error = 0\n",
    "    df['loocv_pred_' + m] = np.nan\n",
    "    for i in idx:\n",
    "        ols = smf.ols(models[m], df[idx!=i]).fit()\n",
    "        df.ix[i, 'loocv_pred_' + m] = ols.predict(df.ix[i])\n",
    "    print('LOOCV error for model {} is {:.2%}'.format(m, mean_squared_error(df.y, df['loocv_pred_' + m])))"
   ]
  },
  {
   "cell_type": "markdown",
   "metadata": {},
   "source": [
    "(d) Repeat (c) using another random seed, and report your results. Are your results the same as what you got in (c)? Why?"
   ]
  },
  {
   "cell_type": "code",
   "execution_count": 27,
   "metadata": {
    "ExecuteTime": {
     "end_time": "2016-12-15T19:20:22.564006",
     "start_time": "2016-12-15T19:20:13.022801"
    },
    "collapsed": false
   },
   "outputs": [
    {
     "name": "stdout",
     "output_type": "stream",
     "text": [
      "LOOCV error for model i is 883.32%\n",
      "LOOCV error for model ii is 93.53%\n",
      "LOOCV error for model iii is 96.80%\n",
      "LOOCV error for model iv is 94.78%\n"
     ]
    }
   ],
   "source": [
    "np.random.seed(777)\n",
    "y = np.random.randn(100)\n",
    "x = np.random.randn(100)\n",
    "y = x - 2*x**2 + np.random.randn(100)\n",
    "df = pd.DataFrame({'y': y, 'x': x})\n",
    "n = len(df)\n",
    "idx = df.index\n",
    "last_model = {}\n",
    "for m in models:\n",
    "    loocv_error = 0\n",
    "    df['loocv_pred_' + m] = np.nan\n",
    "    for i in idx:\n",
    "        ols = smf.ols(models[m], df[idx!=i]).fit()\n",
    "        df.ix[i, 'loocv_pred_' + m] = ols.predict(df.ix[i])\n",
    "    last_model[m] = ols\n",
    "    print('LOOCV error for model {} is {:.2%}'.format(m, mean_squared_error(df.y, df['loocv_pred_' + m])))"
   ]
  },
  {
   "cell_type": "markdown",
   "metadata": {},
   "source": [
    "(e) Which of the models in (c) had the smallest LOOCV error? Is this what you expected? Explain your answer.  \n",
    "\n",
    "Model with smallest LOOCV error is the second one. I expected this model to have lowest error, becaus true functional form of y is parabolic, so second model fit linear regression with quadratic form of predictor thus giving us the best fit."
   ]
  },
  {
   "cell_type": "markdown",
   "metadata": {},
   "source": [
    "(f) Comment on the statistical significance of the coefficient estimates that results from fitting each of the models in (c) using least squares. Do these results agree with the conclusions drawn based on the cross-validation results?  "
   ]
  },
  {
   "cell_type": "code",
   "execution_count": 28,
   "metadata": {
    "ExecuteTime": {
     "end_time": "2016-12-15T19:20:23.189511",
     "start_time": "2016-12-15T19:20:22.570499"
    },
    "collapsed": false
   },
   "outputs": [
    {
     "name": "stdout",
     "output_type": "stream",
     "text": [
      "Model i. y ~ x\n",
      "--------------------------------------------------------------------------------\n",
      "\tLOOCV model coefficients:\n",
      "Intercept   -1.899290\n",
      "x            1.068648\n",
      "dtype: float64\n",
      "\tCV model coefficients:\n",
      "Intercept   -2.157402\n",
      "x            1.217548\n",
      "dtype: float64\n",
      "::::::::::::::::::::::::::::::::::::::::::::::::::::::::::::::::::::::::::::::::\n",
      "\tLOOCV model p-values:\n",
      "Intercept    2.192028e-09\n",
      "x            5.771150e-04\n",
      "dtype: float64\n",
      "\tCV model p-values:\n",
      "Intercept    1.583882e-08\n",
      "x            5.394237e-04\n",
      "dtype: float64\n",
      "\n",
      "\n",
      "Model ii. y ~ x + np.power(x, 2)\n",
      "--------------------------------------------------------------------------------\n",
      "\tLOOCV model coefficients:\n",
      "Intercept         0.020748\n",
      "x                 0.901478\n",
      "np.power(x, 2)   -2.079650\n",
      "dtype: float64\n",
      "\tCV model coefficients:\n",
      "Intercept        -0.003267\n",
      "x                 0.960084\n",
      "np.power(x, 2)   -2.076126\n",
      "dtype: float64\n",
      "::::::::::::::::::::::::::::::::::::::::::::::::::::::::::::::::::::::::::::::::\n",
      "\tLOOCV model p-values:\n",
      "Intercept         8.608877e-01\n",
      "x                 2.156448e-14\n",
      "np.power(x, 2)    8.073405e-48\n",
      "dtype: float64\n",
      "\tCV model p-values:\n",
      "Intercept         9.808077e-01\n",
      "x                 1.440608e-13\n",
      "np.power(x, 2)    1.925606e-40\n",
      "dtype: float64\n",
      "\n",
      "\n",
      "Model iii. y ~ x + np.power(x, 2) + np.power(x, 3)\n",
      "--------------------------------------------------------------------------------\n",
      "\tLOOCV model coefficients:\n",
      "Intercept         0.015000\n",
      "x                 0.809686\n",
      "np.power(x, 2)   -2.067176\n",
      "np.power(x, 3)    0.034004\n",
      "dtype: float64\n",
      "\tCV model coefficients:\n",
      "Intercept        -0.003835\n",
      "x                 0.944444\n",
      "np.power(x, 2)   -2.074181\n",
      "np.power(x, 3)    0.005461\n",
      "dtype: float64\n",
      "::::::::::::::::::::::::::::::::::::::::::::::::::::::::::::::::::::::::::::::::\n",
      "\tLOOCV model p-values:\n",
      "Intercept         8.997495e-01\n",
      "x                 8.964509e-06\n",
      "np.power(x, 2)    4.745681e-46\n",
      "np.power(x, 3)    5.140131e-01\n",
      "dtype: float64\n",
      "\tCV model p-values:\n",
      "Intercept         9.776369e-01\n",
      "x                 4.636515e-06\n",
      "np.power(x, 2)    5.143494e-39\n",
      "np.power(x, 3)    9.214789e-01\n",
      "dtype: float64\n",
      "\n",
      "\n",
      "Model iv. y ~ x + np.power(x, 2) + np.power(x, 3) + np.power(x, 4)\n",
      "--------------------------------------------------------------------------------\n",
      "\tLOOCV model coefficients:\n",
      "Intercept         0.101582\n",
      "x                 0.823304\n",
      "np.power(x, 2)   -2.282259\n",
      "np.power(x, 3)    0.039678\n",
      "np.power(x, 4)    0.044219\n",
      "dtype: float64\n",
      "\tCV model coefficients:\n",
      "Intercept         0.123282\n",
      "x                 0.969058\n",
      "np.power(x, 2)   -2.370528\n",
      "np.power(x, 3)    0.010585\n",
      "np.power(x, 4)    0.059269\n",
      "dtype: float64\n",
      "::::::::::::::::::::::::::::::::::::::::::::::::::::::::::::::::::::::::::::::::\n",
      "\tLOOCV model p-values:\n",
      "Intercept         4.723601e-01\n",
      "x                 6.725864e-06\n",
      "np.power(x, 2)    5.248336e-19\n",
      "np.power(x, 3)    4.479317e-01\n",
      "np.power(x, 4)    2.569156e-01\n",
      "dtype: float64\n",
      "\tCV model p-values:\n",
      "Intercept         4.478138e-01\n",
      "x                 2.700144e-06\n",
      "np.power(x, 2)    7.962244e-17\n",
      "np.power(x, 3)    8.477566e-01\n",
      "np.power(x, 4)    1.533404e-01\n",
      "dtype: float64\n",
      "\n",
      "\n"
     ]
    }
   ],
   "source": [
    "for m in models:\n",
    "    print('Model {}. {}'.format(m, models[m]))\n",
    "    print('-' * 80)\n",
    "    model_loocv = last_model[m]\n",
    "    train, test = train_test_split(df, test_size=0.2, random_state=777)\n",
    "    model_cv = smf.ols(models[m], train).fit()\n",
    "    print('\\tLOOCV model coefficients:\\n{}'.format(model_loocv.params))\n",
    "    print('\\tCV model coefficients:\\n{}'.format(model_cv.params))\n",
    "    print(':' * 80)\n",
    "    print('\\tLOOCV model p-values:\\n{}'.format(model_loocv.pvalues))\n",
    "    print('\\tCV model p-values:\\n{}'.format(model_cv.pvalues))\n",
    "    print('\\n')"
   ]
  },
  {
   "cell_type": "markdown",
   "metadata": {},
   "source": [
    "For model i and ii all coefficients are significant. In model iii coefficient $\\hat{\\beta}_3$ is not significant, according to p-value. In model iv all coefficients are significant.  \n",
    "Models fitted using cross validation have almost the same results as LOOCV, except model iv, in which both $\\hat{\\beta}_3$ and $\\hat{\\beta}_4$ are not significant."
   ]
  },
  {
   "cell_type": "markdown",
   "metadata": {},
   "source": [
    "### 9. We will now consider the Boston housing data set, from the MASS library.  \n",
    "(a) Based on this data set, provide an estimate for the population mean of medv . Call this estimate $\\hat{μ}$."
   ]
  },
  {
   "cell_type": "code",
   "execution_count": 29,
   "metadata": {
    "ExecuteTime": {
     "end_time": "2016-12-15T19:20:23.231513",
     "start_time": "2016-12-15T19:20:23.194511"
    },
    "collapsed": true
   },
   "outputs": [],
   "source": [
    "boston = pd.read_csv('./Datasets/Boston.csv', index_col=0)"
   ]
  },
  {
   "cell_type": "code",
   "execution_count": 30,
   "metadata": {
    "ExecuteTime": {
     "end_time": "2016-12-15T19:20:23.292013",
     "start_time": "2016-12-15T19:20:23.238012"
    },
    "collapsed": true
   },
   "outputs": [],
   "source": [
    "mu_hat = boston.medv.mean()"
   ]
  },
  {
   "cell_type": "markdown",
   "metadata": {},
   "source": [
    "(b) Provide an estimate of the standard error of $\\hat{μ}$. Interpret this result.  \n",
    "*Hint: We can compute the standard error of the sample mean by dividing the sample standard deviation by the square root of the number of observations.*  \n",
    "$se_{\\hat{\\mu}} = \\sigma_{medv}/\\sqrt{n}$"
   ]
  },
  {
   "cell_type": "code",
   "execution_count": 31,
   "metadata": {
    "ExecuteTime": {
     "end_time": "2016-12-15T19:20:23.322514",
     "start_time": "2016-12-15T19:20:23.299016"
    },
    "collapsed": false
   },
   "outputs": [
    {
     "data": {
      "text/plain": [
       "0.4088611474975351"
      ]
     },
     "execution_count": 31,
     "metadata": {},
     "output_type": "execute_result"
    }
   ],
   "source": [
    "se_mu_hat = boston.medv.std() / np.sqrt(len(boston))\n",
    "se_mu_hat"
   ]
  },
  {
   "cell_type": "markdown",
   "metadata": {},
   "source": [
    "(c) Now estimate the standard error of $\\hat{\\mu}$ using the bootstrap. How does this compare to your answer from (b)?"
   ]
  },
  {
   "cell_type": "code",
   "execution_count": 32,
   "metadata": {
    "ExecuteTime": {
     "end_time": "2016-12-15T19:23:07.219485",
     "start_time": "2016-12-15T19:23:07.102483"
    },
    "collapsed": false
   },
   "outputs": [
    {
     "data": {
      "text/plain": [
       "0.40974288676860715"
      ]
     },
     "execution_count": 32,
     "metadata": {},
     "output_type": "execute_result"
    }
   ],
   "source": [
    "mu_bs = []\n",
    "for _ in range(1000):\n",
    "    mu_bs.append(np.random.choice(boston.medv, size=len(boston)).mean())\n",
    "se_mu_bs = np.std(mu_bs)\n",
    "se_mu_bs"
   ]
  },
  {
   "cell_type": "markdown",
   "metadata": {},
   "source": [
    "Standard error of $\\hat{\\mu}$ is very close to value obtained by calculation in (b)."
   ]
  },
  {
   "cell_type": "markdown",
   "metadata": {},
   "source": [
    "(d) Based on your bootstrap estimate from (c), provide a 95% confidence interval for the mean of medv. Compare it to the results obtained using t.test(Boston\\$medv).  \n",
    "*Hint: You can approximate a 95% confidence interval using the formula - $[\\hat{μ} − 2SE(\\hat{μ}), \\hat{μ} + 2SE(\\hat{μ})]$.*"
   ]
  },
  {
   "cell_type": "code",
   "execution_count": 33,
   "metadata": {
    "ExecuteTime": {
     "end_time": "2016-12-15T19:30:46.880693",
     "start_time": "2016-12-15T19:30:46.874693"
    },
    "collapsed": false
   },
   "outputs": [
    {
     "name": "stdout",
     "output_type": "stream",
     "text": [
      "Confidence interval based on bootstrap estimate of std error is [21.713320550573485, 23.35229209764791]\n"
     ]
    }
   ],
   "source": [
    "print('Confidence interval based on bootstrap estimate of std error is [{}, {}]'.format(mu_hat-2*se_mu_bs, mu_hat+2*se_mu_bs))"
   ]
  },
  {
   "cell_type": "code",
   "execution_count": 39,
   "metadata": {
    "ExecuteTime": {
     "end_time": "2016-12-15T20:00:20.023313",
     "start_time": "2016-12-15T20:00:20.007813"
    },
    "collapsed": false
   },
   "outputs": [
    {
     "data": {
      "text/plain": [
       "Ttest_1sampResult(statistic=55.111145830373921, pvalue=9.3706237271326624e-216)"
      ]
     },
     "execution_count": 39,
     "metadata": {},
     "output_type": "execute_result"
    }
   ],
   "source": [
    "sp.stats.ttest_1samp(boston.medv, 0)"
   ]
  },
  {
   "cell_type": "markdown",
   "metadata": {},
   "source": [
    "With 95% confidence we can reject null hypothesis that sample mean is equal zero. We obtained same result with confidence interval."
   ]
  },
  {
   "cell_type": "markdown",
   "metadata": {},
   "source": [
    "(e) Based on this data set, provide an estimate, $\\hat{\\mu}_{med}$ , for the median value of medv in the population."
   ]
  },
  {
   "cell_type": "code",
   "execution_count": 40,
   "metadata": {
    "ExecuteTime": {
     "end_time": "2016-12-15T20:04:11.151774",
     "start_time": "2016-12-15T20:04:11.139278"
    },
    "collapsed": true
   },
   "outputs": [],
   "source": [
    "mu_med_hat = boston.medv.median()"
   ]
  },
  {
   "cell_type": "markdown",
   "metadata": {},
   "source": [
    "(f) We now would like to estimate the standard error of $\\hat{\\mu}_{med}$ . Unfortunately, there is no simple formula for computing the standard error of the median. Instead, estimate the standard error of the median using the bootstrap. Comment on your findings."
   ]
  },
  {
   "cell_type": "code",
   "execution_count": 42,
   "metadata": {
    "ExecuteTime": {
     "end_time": "2016-12-15T20:09:18.143365",
     "start_time": "2016-12-15T20:09:17.949862"
    },
    "collapsed": false
   },
   "outputs": [
    {
     "data": {
      "text/plain": [
       "0.38231505005688665"
      ]
     },
     "execution_count": 42,
     "metadata": {},
     "output_type": "execute_result"
    }
   ],
   "source": [
    "mu_med_bs = []\n",
    "for _ in range(1000):\n",
    "    mu_med_bs.append(np.median(np.random.choice(boston.medv, size=len(boston))))\n",
    "se_mu_med_bs = np.std(mu_med_bs)\n",
    "se_mu_med_bs"
   ]
  },
  {
   "cell_type": "markdown",
   "metadata": {},
   "source": [
    "(g) Based on this data set, provide an estimate for the tenth percentile of medv in Boston suburbs. Call this quantity $\\hat{\\mu}_{0.1}$. (You can use the quantile() function.)"
   ]
  },
  {
   "cell_type": "code",
   "execution_count": 43,
   "metadata": {
    "ExecuteTime": {
     "end_time": "2016-12-15T20:12:20.315250",
     "start_time": "2016-12-15T20:12:20.306250"
    },
    "collapsed": true
   },
   "outputs": [],
   "source": [
    "mu_01_hat = boston.medv.quantile(0.1)"
   ]
  },
  {
   "cell_type": "markdown",
   "metadata": {},
   "source": [
    "(h) Use the bootstrap to estimate the standard error of $\\hat{\\mu}_{0.1}$. Comment on your findings.  \n",
    "Standard error for 10th percentile is close to standard error to 50th percentile (median)."
   ]
  },
  {
   "cell_type": "code",
   "execution_count": 47,
   "metadata": {
    "ExecuteTime": {
     "end_time": "2016-12-15T20:16:12.748274",
     "start_time": "2016-12-15T20:16:12.486769"
    },
    "collapsed": false
   },
   "outputs": [
    {
     "data": {
      "text/plain": [
       "0.48383235733051166"
      ]
     },
     "execution_count": 47,
     "metadata": {},
     "output_type": "execute_result"
    }
   ],
   "source": [
    "mu_01_bs = []\n",
    "for _ in range(1000):\n",
    "    sample = np.random.choice(boston.medv, size=len(boston))\n",
    "    mu_01_bs.append(np.percentile(sample, 10))\n",
    "se_mu_01_bs = np.std(mu_01_bs)\n",
    "se_mu_01_bs"
   ]
  }
 ],
 "metadata": {
  "anaconda-cloud": {},
  "kernelspec": {
   "display_name": "Python [default]",
   "language": "python",
   "name": "python3"
  },
  "language_info": {
   "codemirror_mode": {
    "name": "ipython",
    "version": 3
   },
   "file_extension": ".py",
   "mimetype": "text/x-python",
   "name": "python",
   "nbconvert_exporter": "python",
   "pygments_lexer": "ipython3",
   "version": "3.5.2"
  },
  "notify_time": "10"
 },
 "nbformat": 4,
 "nbformat_minor": 1
}
